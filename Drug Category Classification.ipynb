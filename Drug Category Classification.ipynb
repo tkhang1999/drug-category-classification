{
 "cells": [
  {
   "cell_type": "markdown",
   "metadata": {
    "id": "rsAMhAldl9cx"
   },
   "source": [
    "# Introduction\n",
    "\n",
    "In this notebook, we build and train two deep neural network models, namely CNN and Bi-LSTM, to classify drug categories from a set of online drug reviews using Tensorflow/Keras and UCI Drug Review dataset.\n",
    "\n",
    "At the end of this experiement, our models are able to classify 14 different drug categories from drug reviews with an overall accuracy of approximately 89% "
   ]
  },
  {
   "cell_type": "code",
   "execution_count": 1,
   "metadata": {
    "executionInfo": {
     "elapsed": 3571,
     "status": "ok",
     "timestamp": 1652943695432,
     "user": {
      "displayName": "Khang Le",
      "userId": "02518444330527532058"
     },
     "user_tz": -480
    },
    "id": "SwSpsZheaFKG"
   },
   "outputs": [],
   "source": [
    "import pickle\n",
    "import zipfile\n",
    "import pandas as pd\n",
    "import tensorflow as tf\n",
    "import numpy as np\n",
    "import matplotlib.pyplot as plt\n",
    "import seaborn as sns\n",
    "\n",
    "from sklearn.model_selection import train_test_split \n",
    "from sklearn.preprocessing import LabelEncoder\n",
    "from sklearn.metrics import accuracy_score, confusion_matrix, classification_report\n",
    "from tensorflow.keras.preprocessing.text import Tokenizer\n",
    "from tensorflow.keras.preprocessing.sequence import pad_sequences "
   ]
  },
  {
   "cell_type": "code",
   "execution_count": 2,
   "metadata": {
    "executionInfo": {
     "elapsed": 283,
     "status": "ok",
     "timestamp": 1652943754668,
     "user": {
      "displayName": "Khang Le",
      "userId": "02518444330527532058"
     },
     "user_tz": -480
    },
    "id": "058VbVIpnizm"
   },
   "outputs": [],
   "source": [
    "EMBEDDING_DIM = 50 # how big is each word vector\n",
    "MAX_NB_WORDS = 50000 # how many unique words to use (i.e num rows in embedding vector)\n",
    "MAX_SEQUENCE_LENGTH = 250 # max number of words in a review to use"
   ]
  },
  {
   "cell_type": "markdown",
   "metadata": {
    "id": "lvzeOi2Bl43y"
   },
   "source": [
    "# Data Preprocessing"
   ]
  },
  {
   "cell_type": "markdown",
   "metadata": {
    "id": "CgyX5dnpphHE"
   },
   "source": [
    "## Data Cleaning"
   ]
  },
  {
   "cell_type": "code",
   "execution_count": 3,
   "metadata": {
    "executionInfo": {
     "elapsed": 284,
     "status": "ok",
     "timestamp": 1652943758593,
     "user": {
      "displayName": "Khang Le",
      "userId": "02518444330527532058"
     },
     "user_tz": -480
    },
    "id": "WnjKHz8ljhyT"
   },
   "outputs": [],
   "source": [
    "# data cleaning\n",
    "def review_clean(review): \n",
    "    # changing to lower case\n",
    "    lower = review.str.lower()\n",
    "    \n",
    "    # Replacing the repeating pattern of &#039;\n",
    "    pattern_remove = lower.str.replace(\"&#039;\", \"\", regex = True)\n",
    "    \n",
    "    # Removing all the special Characters\n",
    "    special_remove = pattern_remove.str.replace(r'[^\\w\\d\\s]',' ', regex = True)\n",
    "    \n",
    "    # Removing all the non ASCII characters\n",
    "    ascii_remove = special_remove.str.replace(r'[^\\x00-\\x7F]+',' ', regex = True)\n",
    "    \n",
    "    # Removing the leading and trailing Whitespaces\n",
    "    whitespace_remove = ascii_remove.str.replace(r'^\\s+|\\s+?$','', regex = True)\n",
    "    \n",
    "    # Replacing multiple Spaces with Single Space\n",
    "    multiw_remove = whitespace_remove.str.replace(r'\\s+',' ', regex = True)\n",
    "    \n",
    "    # Replacing Two or more dots with one\n",
    "    dataframe = multiw_remove.str.replace(r'\\.{2,}', ' ', regex = True)\n",
    "    \n",
    "    return dataframe"
   ]
  },
  {
   "cell_type": "code",
   "execution_count": 4,
   "metadata": {
    "executionInfo": {
     "elapsed": 484,
     "status": "ok",
     "timestamp": 1652943760496,
     "user": {
      "displayName": "Khang Le",
      "userId": "02518444330527532058"
     },
     "user_tz": -480
    },
    "id": "LboD2G-5iwMD"
   },
   "outputs": [],
   "source": [
    "def clean_dataframe(data, target_conditions):\n",
    "    data = data[['condition', 'review']]\n",
    "\n",
    "    # remove NULL Values from data\n",
    "    data = data[pd.notnull(data['review'])]\n",
    "\n",
    "    # filter data with selected conditions\n",
    "    data = data[data['condition'].isin(target_conditions)]\n",
    "    \n",
    "    data['review'] = review_clean(data['review'])\n",
    "    \n",
    "    return data"
   ]
  },
  {
   "cell_type": "code",
   "execution_count": 6,
   "metadata": {
    "colab": {
     "base_uri": "https://localhost:8080/",
     "height": 206
    },
    "executionInfo": {
     "elapsed": 1723,
     "status": "ok",
     "timestamp": 1652943763515,
     "user": {
      "displayName": "Khang Le",
      "userId": "02518444330527532058"
     },
     "user_tz": -480
    },
    "id": "JT58j5U2ju9G",
    "outputId": "bc90293d-6ae6-4bdd-9213-cdef3e468725"
   },
   "outputs": [
    {
     "data": {
      "text/html": [
       "<div>\n",
       "<style scoped>\n",
       "    .dataframe tbody tr th:only-of-type {\n",
       "        vertical-align: middle;\n",
       "    }\n",
       "\n",
       "    .dataframe tbody tr th {\n",
       "        vertical-align: top;\n",
       "    }\n",
       "\n",
       "    .dataframe thead th {\n",
       "        text-align: right;\n",
       "    }\n",
       "</style>\n",
       "<table border=\"1\" class=\"dataframe\">\n",
       "  <thead>\n",
       "    <tr style=\"text-align: right;\">\n",
       "      <th></th>\n",
       "      <th>review</th>\n",
       "      <th>condition</th>\n",
       "    </tr>\n",
       "  </thead>\n",
       "  <tbody>\n",
       "    <tr>\n",
       "      <th>0</th>\n",
       "      <td>\"It has no side effect, I take it in combinati...</td>\n",
       "      <td>Left Ventricular Dysfunction</td>\n",
       "    </tr>\n",
       "    <tr>\n",
       "      <th>1</th>\n",
       "      <td>\"My son is halfway through his fourth week of ...</td>\n",
       "      <td>ADHD</td>\n",
       "    </tr>\n",
       "    <tr>\n",
       "      <th>2</th>\n",
       "      <td>\"I used to take another oral contraceptive, wh...</td>\n",
       "      <td>Birth Control</td>\n",
       "    </tr>\n",
       "    <tr>\n",
       "      <th>3</th>\n",
       "      <td>\"This is my first time using any form of birth...</td>\n",
       "      <td>Birth Control</td>\n",
       "    </tr>\n",
       "    <tr>\n",
       "      <th>4</th>\n",
       "      <td>\"Suboxone has completely turned my life around...</td>\n",
       "      <td>Opiate Dependence</td>\n",
       "    </tr>\n",
       "  </tbody>\n",
       "</table>\n",
       "</div>"
      ],
      "text/plain": [
       "                                              review  \\\n",
       "0  \"It has no side effect, I take it in combinati...   \n",
       "1  \"My son is halfway through his fourth week of ...   \n",
       "2  \"I used to take another oral contraceptive, wh...   \n",
       "3  \"This is my first time using any form of birth...   \n",
       "4  \"Suboxone has completely turned my life around...   \n",
       "\n",
       "                      condition  \n",
       "0  Left Ventricular Dysfunction  \n",
       "1                          ADHD  \n",
       "2                 Birth Control  \n",
       "3                 Birth Control  \n",
       "4             Opiate Dependence  "
      ]
     },
     "execution_count": 6,
     "metadata": {},
     "output_type": "execute_result"
    }
   ],
   "source": [
    "train = pd.read_csv('drug_train.csv')\n",
    "test = pd.read_csv('drug_test.csv')\n",
    "\n",
    "data = pd.concat([train, test])[['review','condition']]\n",
    "data.head()"
   ]
  },
  {
   "cell_type": "code",
   "execution_count": 7,
   "metadata": {
    "colab": {
     "base_uri": "https://localhost:8080/"
    },
    "executionInfo": {
     "elapsed": 282,
     "status": "ok",
     "timestamp": 1652943767535,
     "user": {
      "displayName": "Khang Le",
      "userId": "02518444330527532058"
     },
     "user_tz": -480
    },
    "id": "ylej3qqskB0I",
    "outputId": "1bc00c42-7275-4440-e58e-4affc52efda8"
   },
   "outputs": [
    {
     "name": "stdout",
     "output_type": "stream",
     "text": [
      "['Birth Control', 'Depression', 'Pain', 'Anxiety', 'Acne', 'Bipolar Disorde', 'Insomnia', 'Weight Loss', 'Obesity', 'ADHD', 'Diabetes, Type 2', 'Emergency Contraception', 'High Blood Pressure', 'Vaginal Yeast Infection']\n"
     ]
    }
   ],
   "source": [
    "# review counts for each condition\n",
    "review_counts = data[['condition','review']].groupby('condition').aggregate({'review':'count'}).reset_index().sort_values('review',ascending=False)\n",
    "# select conditions that have at least 3000 reviews\n",
    "target_conditions = review_counts[review_counts['review'] > 3000]['condition'].tolist()\n",
    "print(target_conditions)"
   ]
  },
  {
   "cell_type": "code",
   "execution_count": 8,
   "metadata": {
    "colab": {
     "base_uri": "https://localhost:8080/"
    },
    "executionInfo": {
     "elapsed": 9887,
     "status": "ok",
     "timestamp": 1652943780395,
     "user": {
      "displayName": "Khang Le",
      "userId": "02518444330527532058"
     },
     "user_tz": -480
    },
    "id": "i0RlBR_6kJYW",
    "outputId": "8e5dd265-1f75-4fdb-d5dd-20c96290a360"
   },
   "outputs": [
    {
     "name": "stdout",
     "output_type": "stream",
     "text": [
      "<class 'pandas.core.frame.DataFrame'>\n",
      "Int64Index: 83563 entries, 1 to 161291\n",
      "Data columns (total 2 columns):\n",
      " #   Column     Non-Null Count  Dtype \n",
      "---  ------     --------------  ----- \n",
      " 0   condition  83563 non-null  object\n",
      " 1   review     83563 non-null  object\n",
      "dtypes: object(2)\n",
      "memory usage: 1.9+ MB\n",
      "None\n",
      "<class 'pandas.core.frame.DataFrame'>\n",
      "Int64Index: 28001 entries, 0 to 53764\n",
      "Data columns (total 2 columns):\n",
      " #   Column     Non-Null Count  Dtype \n",
      "---  ------     --------------  ----- \n",
      " 0   condition  28001 non-null  object\n",
      " 1   review     28001 non-null  object\n",
      "dtypes: object(2)\n",
      "memory usage: 656.3+ KB\n",
      "None\n"
     ]
    }
   ],
   "source": [
    "train = clean_dataframe(train, target_conditions)\n",
    "test = clean_dataframe(test, target_conditions)\n",
    "\n",
    "print(train.info())\n",
    "print(test.info())"
   ]
  },
  {
   "cell_type": "markdown",
   "metadata": {
    "id": "B66xv0cmpo1y"
   },
   "source": [
    "## Data Tokenization"
   ]
  },
  {
   "cell_type": "code",
   "execution_count": 9,
   "metadata": {
    "colab": {
     "base_uri": "https://localhost:8080/"
    },
    "executionInfo": {
     "elapsed": 291,
     "status": "ok",
     "timestamp": 1652943789859,
     "user": {
      "displayName": "Khang Le",
      "userId": "02518444330527532058"
     },
     "user_tz": -480
    },
    "id": "d1NB_AdWhqjh",
    "outputId": "a1d409e1-96f3-4055-ae14-36c57101fb39"
   },
   "outputs": [
    {
     "name": "stdout",
     "output_type": "stream",
     "text": [
      "(75206,)\n",
      "(8357,)\n",
      "(28001,)\n"
     ]
    }
   ],
   "source": [
    "X_train = train['review']\n",
    "y_train = train['condition']\n",
    "X_test = test['review']\n",
    "y_test = test['condition']\n",
    "\n",
    "# train validation split\n",
    "X_train, X_val, y_train, y_val = train_test_split(X_train, y_train, test_size=0.1, random_state=42)\n",
    "\n",
    "# encode drug categories to numbers\n",
    "le = LabelEncoder()\n",
    "y_train = le.fit_transform(y_train.values)\n",
    "y_val = le.fit_transform(y_val.values)\n",
    "y_test = le.transform(y_test.values)\n",
    "\n",
    "# encode drug category numbers to binary class vectors \n",
    "y_train = tf.keras.utils.to_categorical(y_train)\n",
    "y_val = tf.keras.utils.to_categorical(y_val)\n",
    "y_test = tf.keras.utils.to_categorical(y_test)\n",
    "\n",
    "print(X_train.shape)\n",
    "print(X_val.shape)\n",
    "print(X_test.shape)"
   ]
  },
  {
   "cell_type": "code",
   "execution_count": 10,
   "metadata": {
    "colab": {
     "base_uri": "https://localhost:8080/"
    },
    "executionInfo": {
     "elapsed": 15012,
     "status": "ok",
     "timestamp": 1652943810118,
     "user": {
      "displayName": "Khang Le",
      "userId": "02518444330527532058"
     },
     "user_tz": -480
    },
    "id": "u8e2VkNsoY32",
    "outputId": "9c05c6c4-2e1b-484b-ecef-e24b32129913"
   },
   "outputs": [
    {
     "name": "stdout",
     "output_type": "stream",
     "text": [
      "Found 59960 unique tokens\n"
     ]
    }
   ],
   "source": [
    "tokenizer = Tokenizer(num_words=MAX_NB_WORDS, filters='!\"#$%&()*+,-./:;<=>?@[\\]^_`{|}~', lower=True)\n",
    "tokenizer.fit_on_texts(data['review'])\n",
    "word_index = tokenizer.word_index\n",
    "if (len(word_index) < MAX_NB_WORDS):\n",
    "    raise Exception('Found %s unique tokens. MUST greater than MAX_NB_WORDS = %s. Set MAX_NB_WORDS to a lower number' % (len(word_index), MAX_NB_WORDS))\n",
    "print('Found %s unique tokens' % len(word_index))"
   ]
  },
  {
   "cell_type": "code",
   "execution_count": 11,
   "metadata": {
    "executionInfo": {
     "elapsed": 7147,
     "status": "ok",
     "timestamp": 1652943822281,
     "user": {
      "displayName": "Khang Le",
      "userId": "02518444330527532058"
     },
     "user_tz": -480
    },
    "id": "TndAQbBeiU0i"
   },
   "outputs": [],
   "source": [
    "x_train_tokens = tokenizer.texts_to_sequences(X_train)\n",
    "x_val_tokens = tokenizer.texts_to_sequences(X_val)\n",
    "x_test_tokens = tokenizer.texts_to_sequences(X_test)\n",
    "\n",
    "x_train = pad_sequences(x_train_tokens, maxlen = MAX_SEQUENCE_LENGTH)\n",
    "x_val = pad_sequences(x_val_tokens, maxlen = MAX_SEQUENCE_LENGTH)\n",
    "x_test = pad_sequences(x_test_tokens, maxlen = MAX_SEQUENCE_LENGTH)"
   ]
  },
  {
   "cell_type": "markdown",
   "metadata": {
    "id": "ycUR8XVZVby4"
   },
   "source": [
    "# Prediction Models"
   ]
  },
  {
   "cell_type": "markdown",
   "metadata": {
    "id": "D3RDr8DcWpsF"
   },
   "source": [
    "## Word Embedding"
   ]
  },
  {
   "cell_type": "code",
   "execution_count": 12,
   "metadata": {
    "colab": {
     "base_uri": "https://localhost:8080/"
    },
    "executionInfo": {
     "elapsed": 7371,
     "status": "ok",
     "timestamp": 1652943832417,
     "user": {
      "displayName": "Khang Le",
      "userId": "02518444330527532058"
     },
     "user_tz": -480
    },
    "id": "AX8CZG0HpVhV",
    "outputId": "7c134b08-e072-4ffd-b2ba-33d349929b15"
   },
   "outputs": [
    {
     "name": "stderr",
     "output_type": "stream",
     "text": [
      "c:\\users\\admin\\appdata\\local\\programs\\python\\python38\\lib\\site-packages\\IPython\\core\\interactiveshell.py:3337: FutureWarning: arrays to stack must be passed as a \"sequence\" type such as list or tuple. Support for non-sequence iterables such as generators is deprecated as of NumPy 1.16 and will raise an error in the future.\n",
      "  if await self.run_code(code, result, async_=asy):\n"
     ]
    }
   ],
   "source": [
    "with zipfile.ZipFile(\"glove.6B.50d.txt.zip\", 'r') as zip_ref:\n",
    "    zip_ref.extractall()\n",
    "\n",
    "EMBEDDING_FILE = 'glove.6B.50d.txt'\n",
    "\n",
    "def get_coefs(word,*arr): return word, np.asarray(arr, dtype='float32')\n",
    "embeddings_index = dict(get_coefs(*o.strip().split()) for o in open(EMBEDDING_FILE, encoding=\"utf8\"))\n",
    "\n",
    "all_embs = np.stack(embeddings_index.values())\n",
    "emb_mean,emb_std = all_embs.mean(), all_embs.std()\n",
    "emb_mean,emb_std\n",
    "\n",
    "word_index = tokenizer.word_index\n",
    "nb_words = min(MAX_NB_WORDS, len(word_index))\n",
    "embedding_matrix = np.random.normal(emb_mean, emb_std, (nb_words, EMBEDDING_DIM))\n",
    "for word, i in word_index.items():\n",
    "    if i >= MAX_NB_WORDS: continue\n",
    "    embedding_vector = embeddings_index.get(word)\n",
    "    if embedding_vector is not None: embedding_matrix[i] = embedding_vector"
   ]
  },
  {
   "cell_type": "markdown",
   "metadata": {
    "id": "mCSUGK9ppeAt"
   },
   "source": [
    "## CNN"
   ]
  },
  {
   "cell_type": "code",
   "execution_count": 13,
   "metadata": {
    "colab": {
     "base_uri": "https://localhost:8080/"
    },
    "executionInfo": {
     "elapsed": 811,
     "status": "ok",
     "timestamp": 1652943839633,
     "user": {
      "displayName": "Khang Le",
      "userId": "02518444330527532058"
     },
     "user_tz": -480
    },
    "id": "hlbE01dczqqt",
    "outputId": "8c061090-664d-46b6-c4ca-d78c27b726cc"
   },
   "outputs": [
    {
     "name": "stdout",
     "output_type": "stream",
     "text": [
      "Model: \"model\"\n",
      "_________________________________________________________________\n",
      " Layer (type)                Output Shape              Param #   \n",
      "=================================================================\n",
      " input_1 (InputLayer)        [(None, 250)]             0         \n",
      "                                                                 \n",
      " embedding (Embedding)       (None, 250, 50)           2500000   \n",
      "                                                                 \n",
      " conv1d (Conv1D)             (None, 246, 128)          32128     \n",
      "                                                                 \n",
      " global_max_pooling1d (Globa  (None, 128)              0         \n",
      " lMaxPooling1D)                                                  \n",
      "                                                                 \n",
      " dense (Dense)               (None, 50)                6450      \n",
      "                                                                 \n",
      " dropout (Dropout)           (None, 50)                0         \n",
      "                                                                 \n",
      " dense_1 (Dense)             (None, 14)                714       \n",
      "                                                                 \n",
      "=================================================================\n",
      "Total params: 2,539,292\n",
      "Trainable params: 2,539,292\n",
      "Non-trainable params: 0\n",
      "_________________________________________________________________\n",
      "None\n"
     ]
    }
   ],
   "source": [
    "#For CNN\n",
    "from tensorflow.keras.models import Model\n",
    "from tensorflow.keras.layers import Conv1D, Dense, Dropout, Embedding, Input, GlobalMaxPool1D\n",
    "\n",
    "# Create a CNN model with a Word Embedding layer using glove.6B data\n",
    "cnn_inp = Input(shape=(MAX_SEQUENCE_LENGTH,))\n",
    "cnn_out = Embedding(MAX_NB_WORDS, EMBEDDING_DIM, weights=[embedding_matrix])(cnn_inp)\n",
    "cnn_out = Conv1D(filters=128, kernel_size=5, activation='relu')(cnn_out)\n",
    "cnn_out = GlobalMaxPool1D()(cnn_out)\n",
    "cnn_out = Dense(50, activation='relu')(cnn_out)\n",
    "cnn_out = Dropout(0.1)(cnn_out)\n",
    "cnn_out = Dense(len(target_conditions), activation='softmax')(cnn_out)\n",
    "cnn_model = Model(inputs=cnn_inp, outputs=cnn_out)\n",
    "cnn_model.compile(loss='categorical_crossentropy', optimizer='adam', metrics=['accuracy'])\n",
    "\n",
    "print(cnn_model.summary())"
   ]
  },
  {
   "cell_type": "code",
   "execution_count": 14,
   "metadata": {
    "colab": {
     "base_uri": "https://localhost:8080/"
    },
    "executionInfo": {
     "elapsed": 581647,
     "status": "ok",
     "timestamp": 1652944426414,
     "user": {
      "displayName": "Khang Le",
      "userId": "02518444330527532058"
     },
     "user_tz": -480
    },
    "id": "RcmbC467112c",
    "outputId": "cf1f4948-cd9d-4acc-81ff-8a4f840d62a0"
   },
   "outputs": [
    {
     "name": "stdout",
     "output_type": "stream",
     "text": [
      "Epoch 1/5\n",
      "588/588 [==============================] - 29s 49ms/step - loss: 1.1184 - accuracy: 0.6448 - val_loss: 0.5571 - val_accuracy: 0.8166\n",
      "Epoch 2/5\n",
      "588/588 [==============================] - 29s 49ms/step - loss: 0.5190 - accuracy: 0.8262 - val_loss: 0.4307 - val_accuracy: 0.8526\n",
      "Epoch 3/5\n",
      "588/588 [==============================] - 29s 49ms/step - loss: 0.3943 - accuracy: 0.8646 - val_loss: 0.3803 - val_accuracy: 0.8703\n",
      "Epoch 4/5\n",
      "588/588 [==============================] - 29s 49ms/step - loss: 0.3215 - accuracy: 0.8899 - val_loss: 0.3461 - val_accuracy: 0.8799\n",
      "Epoch 5/5\n",
      "588/588 [==============================] - 29s 50ms/step - loss: 0.2599 - accuracy: 0.9110 - val_loss: 0.3342 - val_accuracy: 0.8912\n",
      "876/876 [==============================] - 3s 3ms/step - loss: 0.3428 - accuracy: 0.8872\n",
      "[0.34277287125587463, 0.8871825933456421]\n"
     ]
    }
   ],
   "source": [
    "cnn_model.fit(x_train, y_train, epochs=5, batch_size=128, validation_data=(x_val, y_val))\n",
    "print(cnn_model.evaluate(x_test, y_test))"
   ]
  },
  {
   "cell_type": "code",
   "execution_count": 15,
   "metadata": {
    "colab": {
     "base_uri": "https://localhost:8080/"
    },
    "executionInfo": {
     "elapsed": 10199,
     "status": "ok",
     "timestamp": 1652945291141,
     "user": {
      "displayName": "Khang Le",
      "userId": "02518444330527532058"
     },
     "user_tz": -480
    },
    "id": "XW0pQQ-GsIhM",
    "outputId": "6e016edd-76eb-4a94-afc8-beb71c32a11a"
   },
   "outputs": [
    {
     "name": "stdout",
     "output_type": "stream",
     "text": [
      "438/438 [==============================] - 2s 5ms/step\n"
     ]
    }
   ],
   "source": [
    "cnn_preds= cnn_model.predict(x=x_test, batch_size=64, verbose=1)\n",
    "\n",
    "cnn_true = [le.classes_[x] for x in y_test.argmax(axis=1)]\n",
    "cnn_pred = [le.classes_[x] for x in cnn_preds.argmax(axis=1)]"
   ]
  },
  {
   "cell_type": "code",
   "execution_count": 16,
   "metadata": {
    "colab": {
     "base_uri": "https://localhost:8080/"
    },
    "executionInfo": {
     "elapsed": 820,
     "status": "ok",
     "timestamp": 1652945293966,
     "user": {
      "displayName": "Khang Le",
      "userId": "02518444330527532058"
     },
     "user_tz": -480
    },
    "id": "HF_MH4kMv3UH",
    "outputId": "88397ea8-3082-453c-8c53-4b91307f77f1"
   },
   "outputs": [
    {
     "name": "stdout",
     "output_type": "stream",
     "text": [
      "0.8871826006214064\n",
      "                         precision    recall  f1-score   support\n",
      "\n",
      "                   ADHD       0.90      0.88      0.89      1126\n",
      "                   Acne       0.94      0.92      0.93      1847\n",
      "                Anxiety       0.81      0.72      0.77      1908\n",
      "        Bipolar Disorde       0.87      0.75      0.80      1380\n",
      "          Birth Control       0.97      0.98      0.98      9648\n",
      "             Depression       0.75      0.88      0.81      3095\n",
      "       Diabetes, Type 2       0.93      0.86      0.89       808\n",
      "Emergency Contraception       0.98      0.95      0.96       827\n",
      "    High Blood Pressure       0.91      0.85      0.88       783\n",
      "               Insomnia       0.86      0.82      0.84      1231\n",
      "                Obesity       0.71      0.61      0.66      1189\n",
      "                   Pain       0.88      0.94      0.91      2100\n",
      "Vaginal Yeast Infection       0.96      0.94      0.95       811\n",
      "            Weight Loss       0.69      0.73      0.71      1248\n",
      "\n",
      "               accuracy                           0.89     28001\n",
      "              macro avg       0.87      0.85      0.86     28001\n",
      "           weighted avg       0.89      0.89      0.89     28001\n",
      "\n"
     ]
    }
   ],
   "source": [
    "print(accuracy_score(cnn_true, cnn_pred))\n",
    "print(classification_report(cnn_true, cnn_pred))"
   ]
  },
  {
   "cell_type": "code",
   "execution_count": 17,
   "metadata": {
    "colab": {
     "base_uri": "https://localhost:8080/",
     "height": 742
    },
    "executionInfo": {
     "elapsed": 2200,
     "status": "ok",
     "timestamp": 1652945297909,
     "user": {
      "displayName": "Khang Le",
      "userId": "02518444330527532058"
     },
     "user_tz": -480
    },
    "id": "c4tl12kvxY0u",
    "outputId": "9c86b9ba-4118-46a8-b333-121e9ae14568"
   },
   "outputs": [
    {
     "data": {
      "text/plain": [
       "Text(69.0, 0.5, 'Actuals')"
      ]
     },
     "execution_count": 17,
     "metadata": {},
     "output_type": "execute_result"
    },
    {
     "data": {
      "image/png": "[encoded data removed]",
      "text/plain": [
       "<Figure size 720x720 with 2 Axes>"
      ]
     },
     "metadata": {
      "needs_background": "light"
     },
     "output_type": "display_data"
    }
   ],
   "source": [
    "cnn_cm = confusion_matrix(cnn_true, cnn_pred)\n",
    "plt.subplots(figsize=(10,10))\n",
    "sns.heatmap(cnn_cm, annot=True, xticklabels=le.classes_, yticklabels=le.classes_, fmt='g', cmap=\"YlGnBu\")\n",
    "plt.xlabel(\"Predicted\")\n",
    "plt.ylabel(\"Actuals\")"
   ]
  },
  {
   "cell_type": "markdown",
   "metadata": {
    "id": "UKjHa6iwVXqR"
   },
   "source": [
    "## LSTM"
   ]
  },
  {
   "cell_type": "code",
   "execution_count": 18,
   "metadata": {
    "colab": {
     "base_uri": "https://localhost:8080/"
    },
    "executionInfo": {
     "elapsed": 577,
     "status": "ok",
     "timestamp": 1652945304066,
     "user": {
      "displayName": "Khang Le",
      "userId": "02518444330527532058"
     },
     "user_tz": -480
    },
    "id": "k-61Qw-JWeC7",
    "outputId": "4813c26b-de05-4edb-f105-fec28646cd8b"
   },
   "outputs": [
    {
     "name": "stdout",
     "output_type": "stream",
     "text": [
      "Model: \"model_1\"\n",
      "_________________________________________________________________\n",
      " Layer (type)                Output Shape              Param #   \n",
      "=================================================================\n",
      " input_2 (InputLayer)        [(None, 250)]             0         \n",
      "                                                                 \n",
      " embedding_1 (Embedding)     (None, 250, 50)           2500000   \n",
      "                                                                 \n",
      " bidirectional (Bidirectiona  (None, 250, 100)         40400     \n",
      " l)                                                              \n",
      "                                                                 \n",
      " global_max_pooling1d_1 (Glo  (None, 100)              0         \n",
      " balMaxPooling1D)                                                \n",
      "                                                                 \n",
      " dense_2 (Dense)             (None, 50)                5050      \n",
      "                                                                 \n",
      " dropout_1 (Dropout)         (None, 50)                0         \n",
      "                                                                 \n",
      " dense_3 (Dense)             (None, 14)                714       \n",
      "                                                                 \n",
      "=================================================================\n",
      "Total params: 2,546,164\n",
      "Trainable params: 2,546,164\n",
      "Non-trainable params: 0\n",
      "_________________________________________________________________\n",
      "None\n"
     ]
    }
   ],
   "source": [
    "#For LSTM\n",
    "from tensorflow.keras.models import Model\n",
    "from tensorflow.keras.layers import Bidirectional, Dense, Dropout, Embedding, Input, GlobalMaxPool1D, LSTM\n",
    "\n",
    "# Create the custom model with a Word Embedding layer using glove.6B data\n",
    "lstm_inp = Input(shape=(MAX_SEQUENCE_LENGTH,))\n",
    "lstm_out = Embedding(MAX_NB_WORDS, EMBEDDING_DIM, weights=[embedding_matrix])(lstm_inp)\n",
    "lstm_out = Bidirectional(LSTM(50, return_sequences=True, dropout=0.1, recurrent_dropout=0.1))(lstm_out)\n",
    "lstm_out = GlobalMaxPool1D()(lstm_out)\n",
    "lstm_out = Dense(50, activation='relu')(lstm_out)\n",
    "lstm_out = Dropout(0.1)(lstm_out)\n",
    "lstm_out = Dense(len(target_conditions), activation='softmax')(lstm_out)\n",
    "lstm_model = Model(inputs=lstm_inp, outputs=lstm_out)\n",
    "lstm_model.compile(loss='categorical_crossentropy', optimizer='adam', metrics=['accuracy'])\n",
    "\n",
    "print(lstm_model.summary())"
   ]
  },
  {
   "cell_type": "code",
   "execution_count": 19,
   "metadata": {
    "colab": {
     "base_uri": "https://localhost:8080/"
    },
    "executionInfo": {
     "elapsed": 4834601,
     "status": "ok",
     "timestamp": 1652950140595,
     "user": {
      "displayName": "Khang Le",
      "userId": "02518444330527532058"
     },
     "user_tz": -480
    },
    "id": "QN_9DqCLXCL5",
    "outputId": "45122ea9-d7b7-4d47-8168-3ccfeecb66a2"
   },
   "outputs": [
    {
     "name": "stdout",
     "output_type": "stream",
     "text": [
      "Epoch 1/7\n",
      "588/588 [==============================] - 386s 652ms/step - loss: 1.3191 - accuracy: 0.5748 - val_loss: 0.6961 - val_accuracy: 0.7669\n",
      "Epoch 2/7\n",
      "588/588 [==============================] - 425s 722ms/step - loss: 0.5770 - accuracy: 0.8026 - val_loss: 0.4508 - val_accuracy: 0.8401\n",
      "Epoch 3/7\n",
      "588/588 [==============================] - 448s 762ms/step - loss: 0.4389 - accuracy: 0.8466 - val_loss: 0.3928 - val_accuracy: 0.8582\n",
      "Epoch 4/7\n",
      "588/588 [==============================] - 468s 796ms/step - loss: 0.3768 - accuracy: 0.8679 - val_loss: 0.3705 - val_accuracy: 0.8702\n",
      "Epoch 5/7\n",
      "588/588 [==============================] - 471s 801ms/step - loss: 0.3336 - accuracy: 0.8820 - val_loss: 0.3467 - val_accuracy: 0.8779\n",
      "Epoch 6/7\n",
      "588/588 [==============================] - 472s 803ms/step - loss: 0.3005 - accuracy: 0.8937 - val_loss: 0.3336 - val_accuracy: 0.8837\n",
      "Epoch 7/7\n",
      "588/588 [==============================] - 479s 814ms/step - loss: 0.2703 - accuracy: 0.9046 - val_loss: 0.3269 - val_accuracy: 0.8866\n",
      "876/876 [==============================] - 23s 27ms/step - loss: 0.3282 - accuracy: 0.8871\n",
      "[0.3281707465648651, 0.8871468901634216]\n"
     ]
    }
   ],
   "source": [
    "lstm_model.fit(x_train, y_train, epochs=7, batch_size=128, validation_data=(x_val, y_val))\n",
    "print(lstm_model.evaluate(x_test, y_test))"
   ]
  },
  {
   "cell_type": "code",
   "execution_count": 20,
   "metadata": {
    "colab": {
     "base_uri": "https://localhost:8080/"
    },
    "executionInfo": {
     "elapsed": 50708,
     "status": "ok",
     "timestamp": 1652952567080,
     "user": {
      "displayName": "Khang Le",
      "userId": "02518444330527532058"
     },
     "user_tz": -480
    },
    "id": "INOxU9mKYp9L",
    "outputId": "787737d3-413b-44ba-8d25-c3d6c95c185f"
   },
   "outputs": [
    {
     "name": "stdout",
     "output_type": "stream",
     "text": [
      "438/438 [==============================] - 50s 113ms/step\n"
     ]
    }
   ],
   "source": [
    "lstm_preds= lstm_model.predict(x=x_test, batch_size=64, verbose=1)\n",
    "\n",
    "lstm_true = [le.classes_[x] for x in y_test.argmax(axis=1)]\n",
    "lstm_pred = [le.classes_[x] for x in lstm_preds.argmax(axis=1)]"
   ]
  },
  {
   "cell_type": "code",
   "execution_count": 21,
   "metadata": {
    "colab": {
     "base_uri": "https://localhost:8080/"
    },
    "executionInfo": {
     "elapsed": 795,
     "status": "ok",
     "timestamp": 1652952567866,
     "user": {
      "displayName": "Khang Le",
      "userId": "02518444330527532058"
     },
     "user_tz": -480
    },
    "id": "kCd8CfuQ1V4g",
    "outputId": "45cf8b5f-8144-4939-d20f-e132d5e80890"
   },
   "outputs": [
    {
     "name": "stdout",
     "output_type": "stream",
     "text": [
      "0.889075390164637\n",
      "                         precision    recall  f1-score   support\n",
      "\n",
      "                   ADHD       0.87      0.91      0.89      1126\n",
      "                   Acne       0.96      0.91      0.93      1847\n",
      "                Anxiety       0.86      0.72      0.79      1908\n",
      "        Bipolar Disorde       0.84      0.76      0.80      1380\n",
      "          Birth Control       0.97      0.99      0.98      9648\n",
      "             Depression       0.79      0.85      0.82      3095\n",
      "       Diabetes, Type 2       0.87      0.88      0.87       808\n",
      "Emergency Contraception       0.96      0.95      0.96       827\n",
      "    High Blood Pressure       0.87      0.87      0.87       783\n",
      "               Insomnia       0.86      0.86      0.86      1231\n",
      "                Obesity       0.68      0.65      0.66      1189\n",
      "                   Pain       0.89      0.94      0.92      2100\n",
      "Vaginal Yeast Infection       0.94      0.95      0.95       811\n",
      "            Weight Loss       0.70      0.66      0.68      1248\n",
      "\n",
      "               accuracy                           0.89     28001\n",
      "              macro avg       0.86      0.85      0.86     28001\n",
      "           weighted avg       0.89      0.89      0.89     28001\n",
      "\n"
     ]
    }
   ],
   "source": [
    "print(accuracy_score(lstm_true, lstm_pred))\n",
    "print(classification_report(lstm_true, lstm_pred))"
   ]
  },
  {
   "cell_type": "code",
   "execution_count": 22,
   "metadata": {
    "colab": {
     "base_uri": "https://localhost:8080/",
     "height": 742
    },
    "executionInfo": {
     "elapsed": 1784,
     "status": "ok",
     "timestamp": 1652952569647,
     "user": {
      "displayName": "Khang Le",
      "userId": "02518444330527532058"
     },
     "user_tz": -480
    },
    "id": "7oOZgBLy1Z4z",
    "outputId": "964a4198-3af4-4604-8d11-ede53c0a1541"
   },
   "outputs": [
    {
     "data": {
      "text/plain": [
       "Text(69.0, 0.5, 'Actuals')"
      ]
     },
     "execution_count": 22,
     "metadata": {},
     "output_type": "execute_result"
    },
    {
     "data": {
      "image/png": "[encoded data removed]",
      "text/plain": [
       "<Figure size 720x720 with 2 Axes>"
      ]
     },
     "metadata": {
      "needs_background": "light"
     },
     "output_type": "display_data"
    }
   ],
   "source": [
    "lstm_cm = confusion_matrix(lstm_true, lstm_pred)\n",
    "plt.subplots(figsize=(10,10))\n",
    "sns.heatmap(lstm_cm, annot=True, xticklabels=le.classes_, yticklabels=le.classes_, fmt='g', cmap=\"YlGnBu\")\n",
    "plt.xlabel(\"Predicted\")\n",
    "plt.ylabel(\"Actuals\")"
   ]
  },
  {
   "cell_type": "code",
   "execution_count": null,
   "metadata": {
    "id": "omhFh3jv8JOx"
   },
   "outputs": [],
   "source": []
  }
 ],
 "metadata": {
  "colab": {
   "authorship_tag": "ABX9TyOAyn9F+8fosaB/4fku3x+6",
   "collapsed_sections": [],
   "name": "Drug Category Classification.ipynb",
   "provenance": []
  },
  "kernelspec": {
   "display_name": "Python 3 (ipykernel)",
   "language": "python",
   "name": "python3"
  },
  "language_info": {
   "codemirror_mode": {
    "name": "ipython",
    "version": 3
   },
   "file_extension": ".py",
   "mimetype": "text/x-python",
   "name": "python",
   "nbconvert_exporter": "python",
   "pygments_lexer": "ipython3",
   "version": "3.8.10"
  }
 },
 "nbformat": 4,
 "nbformat_minor": 1
}
